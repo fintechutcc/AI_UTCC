{
 "metadata": {
  "language_info": {
   "codemirror_mode": {
    "name": "ipython",
    "version": 3
   },
   "file_extension": ".py",
   "mimetype": "text/x-python",
   "name": "python",
   "nbconvert_exporter": "python",
   "pygments_lexer": "ipython3",
   "version": "3.7.7-final"
  },
  "orig_nbformat": 2,
  "kernelspec": {
   "name": "python3",
   "display_name": "Python 3",
   "language": "python"
  }
 },
 "nbformat": 4,
 "nbformat_minor": 2,
 "cells": [
  {
   "cell_type": "code",
   "execution_count": 1,
   "metadata": {},
   "outputs": [],
   "source": [
    "import termcolor\n",
    "\n",
    "from logic import *\n",
    "\n",
    "mustard = Symbol(\"ColMustard\")\n",
    "plum = Symbol(\"ProfPlum\")\n",
    "scarlet = Symbol(\"MsScarlet\")\n",
    "characters = [mustard, plum, scarlet]\n",
    "\n",
    "ballroom = Symbol(\"ballroom\")\n",
    "kitchen = Symbol(\"kitchen\")\n",
    "library = Symbol(\"library\")\n",
    "rooms = [ballroom, kitchen, library]\n",
    "\n",
    "knife = Symbol(\"knife\")\n",
    "revolver = Symbol(\"revolver\")\n",
    "wrench = Symbol(\"wrench\")\n",
    "weapons = [knife, revolver, wrench]\n",
    "\n",
    "symbols = characters + rooms + weapons"
   ]
  },
  {
   "cell_type": "code",
   "execution_count": 2,
   "metadata": {},
   "outputs": [],
   "source": [
    "def check_knowledge(knowledge):\n",
    "    for symbol in symbols:\n",
    "        if model_check(knowledge, symbol):\n",
    "            termcolor.cprint(f\"{symbol}: YES\", \"green\")\n",
    "        elif not model_check(knowledge, Not(symbol)):\n",
    "            print(f\"{symbol}: MAYBE\")"
   ]
  },
  {
   "cell_type": "code",
   "execution_count": 3,
   "metadata": {},
   "outputs": [
    {
     "output_type": "stream",
     "name": "stdout",
     "text": [
      "ColMustard: MAYBE\nProfPlum: MAYBE\nMsScarlet: MAYBE\nballroom: MAYBE\nkitchen: MAYBE\nlibrary: MAYBE\nknife: MAYBE\nrevolver: MAYBE\nwrench: MAYBE\n"
     ]
    }
   ],
   "source": [
    "# There must be a person, room, and weapon.\n",
    "knowledge = And(\n",
    "    Or(mustard, plum, scarlet),\n",
    "    Or(ballroom, kitchen, library),\n",
    "    Or(knife, revolver, wrench)\n",
    ")\n",
    "\n",
    "check_knowledge(knowledge)"
   ]
  },
  {
   "cell_type": "code",
   "execution_count": 4,
   "metadata": {},
   "outputs": [
    {
     "output_type": "stream",
     "name": "stdout",
     "text": [
      "ProfPlum: MAYBE\nMsScarlet: MAYBE\nballroom: MAYBE\nlibrary: MAYBE\nknife: MAYBE\nwrench: MAYBE\n"
     ]
    }
   ],
   "source": [
    "# Initial cards\n",
    "knowledge.add(And(\n",
    "    Not(mustard), Not(kitchen), Not(revolver)\n",
    "))\n",
    "\n",
    "check_knowledge(knowledge)"
   ]
  },
  {
   "cell_type": "code",
   "execution_count": 5,
   "metadata": {},
   "outputs": [
    {
     "output_type": "stream",
     "name": "stdout",
     "text": [
      "ProfPlum: MAYBE\nMsScarlet: MAYBE\nballroom: MAYBE\nlibrary: MAYBE\nknife: MAYBE\nwrench: MAYBE\n"
     ]
    }
   ],
   "source": [
    "# Unknown card\n",
    "knowledge.add(Or(\n",
    "    Not(scarlet), Not(library), Not(wrench)\n",
    "))\n",
    "\n",
    "check_knowledge(knowledge)"
   ]
  },
  {
   "cell_type": "code",
   "execution_count": 6,
   "metadata": {},
   "outputs": [
    {
     "output_type": "stream",
     "name": "stdout",
     "text": [
      "\u001b[32mMsScarlet: YES\u001b[0m\nballroom: MAYBE\nlibrary: MAYBE\nknife: MAYBE\nwrench: MAYBE\n"
     ]
    }
   ],
   "source": [
    "knowledge.add(Not(plum))\n",
    "\n",
    "check_knowledge(knowledge)"
   ]
  },
  {
   "cell_type": "code",
   "execution_count": 7,
   "metadata": {},
   "outputs": [
    {
     "output_type": "stream",
     "name": "stdout",
     "text": [
      "\u001b[32mMsScarlet: YES\u001b[0m\n\u001b[32mlibrary: YES\u001b[0m\n\u001b[32mknife: YES\u001b[0m\n"
     ]
    }
   ],
   "source": [
    "knowledge.add(Not(ballroom))\n",
    "\n",
    "check_knowledge(knowledge)"
   ]
  }
 ]
}